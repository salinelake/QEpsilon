{
 "cells": [
  {
   "cell_type": "code",
   "execution_count": 1,
   "id": "b59a5c3e",
   "metadata": {},
   "outputs": [],
   "source": [
    "import numpy as np\n",
    "import torch as th\n",
    "import qepsilon as qe\n",
    "from qepsilon import *\n",
    "from task import *\n",
    "from matplotlib import pyplot as plt\n",
    "import time\n",
    "from task import RamseyScan, RamseySpinEcho, RamseyXY8\n",
    "\n",
    "## do not print the tensor in scientific notation\n",
    "th.set_printoptions(sci_mode=False, precision=3)\n",
    "dev = 'cpu'"
   ]
  },
  {
   "cell_type": "markdown",
   "id": "4f7c1c1b-1f20-46a9-92e9-262df7b848f1",
   "metadata": {},
   "source": [
    "## Define the one qubit system with initial state $|\\downarrow\\rangle$"
   ]
  },
  {
   "cell_type": "code",
   "execution_count": 2,
   "id": "0867a822",
   "metadata": {},
   "outputs": [],
   "source": [
    "batchsize = 24000\n",
    "qubit = qe.QubitLindbladSystem(n_qubits=1, batchsize=batchsize)\n",
    "qubit.set_rho_by_config([0])\n",
    "qubit.to(dev)\n"
   ]
  },
  {
   "cell_type": "markdown",
   "id": "8ee3a5dd-2994-44e5-988e-87a4b3b55add",
   "metadata": {},
   "source": [
    "## load trained model"
   ]
  },
  {
   "cell_type": "code",
   "execution_count": 3,
   "id": "8eaf5f64-e2f2-4b3e-8ca9-15ebd8247ca5",
   "metadata": {},
   "outputs": [
    {
     "name": "stdout",
     "output_type": "stream",
     "text": [
      "{'_hamiltonian_operator_group_dict.sz_noise_shot.logamp': tensor(-1.269), '_hamiltonian_operator_group_dict.sz_noise_color.logtau': tensor(1.348), '_hamiltonian_operator_group_dict.sz_noise_color.logamp': tensor(-2.887), '_hamiltonian_operator_group_dict.sz_noise_60hz.logamp': tensor(-3.324), '_hamiltonian_operator_group_dict.sz_noise_60hz.logtau': tensor(2.813), '_hamiltonian_operator_group_dict.sz_noise_120hz.logamp': tensor(-2.882), '_hamiltonian_operator_group_dict.sz_noise_120hz.logtau': tensor(2.120), '_hamiltonian_operator_group_dict.sz_noise_180hz.logamp': tensor(-3.861), '_hamiltonian_operator_group_dict.sz_noise_180hz.logtau': tensor(1.715), '_hamiltonian_operator_group_dict.sz_noise_240hz.logamp': tensor(-2.644), '_hamiltonian_operator_group_dict.sz_noise_240hz.logtau': tensor(1.427), '_jumping_group_dict.sx_jump.coef': tensor(0.031), '_jumping_group_dict.sz_jump.coef': tensor(0.033), '_channel_group_dict.depol_channel._p': tensor(-4.157)}\n"
     ]
    }
   ],
   "source": [
    "conf = th.load('state_dict.pt', weights_only=True)\n",
    "conf_keys = [x for x in conf]\n",
    "conf_paras = {}\n",
    "for key in conf_keys:\n",
    "    if conf[key].shape == th.tensor(1).shape:\n",
    "        conf_paras[key] = conf[key]\n",
    "\n",
    "print(conf_paras)\n",
    "sz_noise_shot_amp = float(th.exp(conf_paras['_hamiltonian_operator_group_dict.sz_noise_shot.logamp']))\n",
    "sz_noise_color_amp = float(th.exp(conf_paras['_hamiltonian_operator_group_dict.sz_noise_color.logamp']))\n",
    "sz_noise_color_tau = float(th.exp(conf_paras['_hamiltonian_operator_group_dict.sz_noise_color.logtau']))\n",
    "sz_noise_60hz_amp = float(th.exp(conf_paras['_hamiltonian_operator_group_dict.sz_noise_60hz.logamp']))\n",
    "sz_noise_120hz_amp = float(th.exp(conf_paras['_hamiltonian_operator_group_dict.sz_noise_120hz.logamp']))\n",
    "sz_noise_180hz_amp = float(th.exp(conf_paras['_hamiltonian_operator_group_dict.sz_noise_180hz.logamp']))\n",
    "sz_noise_240hz_amp = float(th.exp(conf_paras['_hamiltonian_operator_group_dict.sz_noise_240hz.logamp']))\n",
    "sx_jump = float(conf_paras['_jumping_group_dict.sx_jump.coef'])\n",
    "sz_jump = float(conf_paras['_jumping_group_dict.sz_jump.coef'])\n",
    "depol_p = conf_paras['_channel_group_dict.depol_channel._p']\n",
    "depol_p = float(th.tanh(depol_p)+1)/2.0\n"
   ]
  },
  {
   "cell_type": "markdown",
   "id": "aafb679d-e398-4180-a1ec-1736f493d3d2",
   "metadata": {},
   "source": [
    "## Define noise terms in the time-dependent Hamiltonian"
   ]
  },
  {
   "cell_type": "code",
   "execution_count": 4,
   "id": "4d602aa2-287e-4891-886a-1d6953c36999",
   "metadata": {},
   "outputs": [],
   "source": [
    "sz_shot = ShotbyShotNoisePauliOperatorGroup(n_qubits=1, id=\"sz_noise_shot\", batchsize=batchsize, amp=sz_noise_shot_amp, requires_grad=False).to(dev)\n",
    "sz_shot.add_operator('Z')\n",
    "qubit.add_operator_group_to_hamiltonian(sz_shot)\n",
    "\n",
    "sz0 = LangevinNoisePauliOperatorGroup(n_qubits=1, id=\"sz_noise_color\", batchsize=batchsize, tau=sz_noise_color_tau, amp=sz_noise_color_amp, requires_grad=False).to(dev)\n",
    "sz0.add_operator('Z')\n",
    "qubit.add_operator_group_to_hamiltonian(sz0)\n",
    "\n",
    "sz1 = PeriodicNoisePauliOperatorGroup(n_qubits=1, id=\"sz_noise_60hz\", batchsize=batchsize, tau=(1000/60 ), amp=sz_noise_60hz_amp, requires_grad=False).to(dev)\n",
    "sz1.add_operator('Z')\n",
    "qubit.add_operator_group_to_hamiltonian(sz1)\n",
    "\n",
    "sz2 = PeriodicNoisePauliOperatorGroup(n_qubits=1, id=\"sz_noise_120hz\", batchsize=batchsize, tau=(1000/120), amp=sz_noise_120hz_amp, requires_grad=False).to(dev)\n",
    "sz2.add_operator('Z')\n",
    "qubit.add_operator_group_to_hamiltonian(sz2)\n",
    "\n",
    "sz3 = PeriodicNoisePauliOperatorGroup(n_qubits=1, id=\"sz_noise_180hz\", batchsize=batchsize, tau=(1000/180), amp=sz_noise_180hz_amp, requires_grad=False).to(dev)\n",
    "sz3.add_operator('Z')\n",
    "qubit.add_operator_group_to_hamiltonian(sz3)\n",
    "\n",
    "sz4 = PeriodicNoisePauliOperatorGroup(n_qubits=1, id=\"sz_noise_240hz\", batchsize=batchsize, tau=(1000/240), amp=sz_noise_240hz_amp, requires_grad=False).to(dev)\n",
    "sz4.add_operator('Z')\n",
    "qubit.add_operator_group_to_hamiltonian(sz4)"
   ]
  },
  {
   "cell_type": "markdown",
   "id": "2f0aff9b-35f6-4f0a-876e-5589afd7d91c",
   "metadata": {},
   "source": [
    "## Define the time-indepedent Jump operators in the Lindblad equation"
   ]
  },
  {
   "cell_type": "code",
   "execution_count": 5,
   "id": "d301a867-32b8-4355-a94d-6c77a1c8374a",
   "metadata": {},
   "outputs": [],
   "source": [
    "sx_jump = StaticPauliOperatorGroup(n_qubits=1, id=\"sx_jump\", batchsize=batchsize, coef=sx_jump, static=True,requires_grad=False).to(dev)\n",
    "sx_jump.add_operator('X')\n",
    "qubit.add_operator_group_to_jumping(sx_jump)\n",
    "\n",
    "sz_jump = StaticPauliOperatorGroup(n_qubits=1, id=\"sz_jump\", batchsize=batchsize, coef=sz_jump, static=True, requires_grad=False).to(dev)\n",
    "sz_jump.add_operator('Z')\n",
    "qubit.add_operator_group_to_jumping(sz_jump)"
   ]
  },
  {
   "cell_type": "markdown",
   "id": "cd0e21a2-6d18-4692-808c-32167adc24a6",
   "metadata": {},
   "source": [
    "## Define the error channel associated with each control pulse $R_{\\vec{n}}(\\theta)$"
   ]
  },
  {
   "cell_type": "code",
   "execution_count": 6,
   "id": "92a2da33-9b9d-41a5-a0c5-c1d9ffc18e32",
   "metadata": {},
   "outputs": [],
   "source": [
    "depol_channel = DepolarizationChannel(n_qubits=1, id=\"depol_channel\", batchsize=batchsize, p=depol_p, requires_grad=False).to(dev)\n",
    "qubit.add_operator_group_to_channel(depol_channel)"
   ]
  },
  {
   "cell_type": "markdown",
   "id": "c56f9b49-4fc3-428f-a6c7-6e2acc1fb2ca",
   "metadata": {},
   "source": [
    "## Load one-molecule experimental data from [Science 382.6675 (2023): 1143-1147.]"
   ]
  },
  {
   "cell_type": "code",
   "execution_count": 12,
   "id": "6866b45b-deb1-4929-b7c8-7ef9f37fea60",
   "metadata": {},
   "outputs": [],
   "source": [
    "preparation_rate = 0.79\n",
    "XY8_cycle_time = 1.6\n",
    "## load csv data\n",
    "data_plain = np.loadtxt('./Data/Fig3C_GreenTriangles.csv', delimiter=',', skiprows=1)\n",
    "data_echo = np.loadtxt('./Data/Fig3C_RedSquares.csv', delimiter=',', skiprows=1)\n",
    "data_XY8 = np.loadtxt('./Data/Fig3C_BlueCircles.csv', delimiter=',', skiprows=1)\n"
   ]
  },
  {
   "cell_type": "markdown",
   "id": "ffb97ff1-b634-4af5-ac96-92a87d1c0528",
   "metadata": {},
   "source": [
    "## Run a long simulations with the productive model"
   ]
  },
  {
   "cell_type": "code",
   "execution_count": 13,
   "id": "00e0d210-86cf-4508-ab35-a8c590b0734f",
   "metadata": {},
   "outputs": [],
   "source": [
    "with th.no_grad():\n",
    "    plain_t = np.linspace(0,10,51)\n",
    "    Ramsey_Plain_P0 = RamseyScan(qubit, dt=0.01, T=10, theta_list=[0, np.pi], observe_at=plain_t)\n",
    "    Ramsey_Plain_Contrast = th.abs(Ramsey_Plain_P0[:, 1] - Ramsey_Plain_P0[:, 0])\n",
    "    \n",
    "    ## Ramsey experiment with echo\n",
    "    echo_t = np.linspace(0,160,41)\n",
    "    contrast = []\n",
    "    for T in echo_t:\n",
    "        Ramsey_Echo_P0 = RamseySpinEcho(qubit, dt=0.05, T=T, theta_list=[0, np.pi])\n",
    "        contrast.append(th.abs(Ramsey_Echo_P0[1] - Ramsey_Echo_P0[0]))\n",
    "    Ramsey_Echo_Contrast = th.stack(contrast)\n",
    "    \n",
    "    ## Ramsey experiment with XY8 sequence\n",
    "    xy8_t = np.arange(150) * XY8_cycle_time\n",
    "    Ramsey_XY8_P0 = RamseyScan_XY8(qubit, dt=0.1, T=240, cycle_time=XY8_cycle_time, theta_list=[0, np.pi], observe_at=xy8_t)\n",
    "    Ramsey_XY8_Contrast = th.abs(Ramsey_XY8_P0[:, 1] - Ramsey_XY8_P0[:, 0])\n",
    "np.save('Data/DIQCD_Ramsey_Plain_Contrast', Ramsey_Plain_Contrast.detach().cpu().numpy())\n",
    "np.save('Data/DIQCD_Ramsey_Echo_Contrast', Ramsey_Echo_Contrast.detach().cpu().numpy())\n",
    "np.save('Data/DIQCD_Ramsey_XY8_Contrast', Ramsey_XY8_Contrast.detach().cpu().numpy())\n"
   ]
  },
  {
   "cell_type": "code",
   "execution_count": 19,
   "id": "15b25d8b-5fcb-42de-a382-9b85e5c88dea",
   "metadata": {},
   "outputs": [
    {
     "data": {
      "image/png": "[encoded data removed]",
      "text/plain": [
       "<Figure size 300x400 with 1 Axes>"
      ]
     },
     "metadata": {},
     "output_type": "display_data"
    }
   ],
   "source": [
    "import matplotlib as mpl\n",
    "mpl.rcParams['axes.linewidth'] = 2\n",
    "mpl.rcParams['xtick.labelsize'] = 12\n",
    "mpl.rcParams['ytick.labelsize'] = 12\n",
    "\n",
    "\n",
    "plain_t = np.linspace(0,10,51)\n",
    "echo_t = np.linspace(0,160,41)\n",
    "xy8_t = np.arange(150) * XY8_cycle_time\n",
    "\n",
    "Ramsey_Plain_Contrast = np.load('Data/DIQCD_Ramsey_Plain_Contrast.npy')\n",
    "Ramsey_Echo_Contrast = np.load('Data/DIQCD_Ramsey_Echo_Contrast.npy')\n",
    "Ramsey_XY8_Contrast = np.load('Data/DIQCD_Ramsey_XY8_Contrast.npy')\n",
    "\n",
    "fig, ax = plt.subplots(1,1, figsize=(3,4) )\n",
    "## Plain scheme\n",
    "ax.errorbar(data_plain[:,0], data_plain[:, 1],  data_plain[:, 2], marker='^', color='tab:green', label='Plain (EXP)', linestyle='None') \n",
    "ax.plot(plain_t, Ramsey_Plain_Contrast * preparation_rate, label='Plain (DIQCD)', color='tab:green', linewidth=3, alpha=0.7)\n",
    "## Spin Echo\n",
    "ax.errorbar(data_echo[:, 0], data_echo[:, 1], data_echo[:, 2], marker='s', color='tab:red', label='Spin-Echo (EXP)', linestyle='None')\n",
    "ax.plot(echo_t, Ramsey_Echo_Contrast * preparation_rate, label='Spin-Echo (DIQCD)', color='tab:red', linewidth=3, alpha=0.7)\n",
    "## XY8, cycle time 1.6ms\n",
    "ax.errorbar(data_XY8[:, 0], data_XY8[:, 1], data_XY8[:, 2], marker='o', color='tab:blue', label='XY8 (EXP)', linestyle='None')\n",
    "ax.plot(xy8_t, Ramsey_XY8_Contrast * preparation_rate, label='XY8 (DIQCD)', color='tab:blue', linewidth=3, alpha=0.7)\n",
    "## \n",
    "ax.set_xlabel('t [ms]',fontsize=14)\n",
    "ax.set_ylabel('Contrast', fontsize=14)\n",
    "ax.set_ylim(-0.01,1)\n",
    "ax.legend(fontsize=9, frameon=False, loc='upper right', ncols=1, handletextpad=0.5, handlelength=1.0 )\n",
    "plt.tight_layout()\n",
    "plt.savefig('one-body.png', dpi=300)\n",
    "plt.show()\n",
    "plt.close()"
   ]
  },
  {
   "cell_type": "code",
   "execution_count": null,
   "id": "d1a85213-0ac2-47ea-a5e5-7a49c6302d88",
   "metadata": {},
   "outputs": [],
   "source": []
  }
 ],
 "metadata": {
  "kernelspec": {
   "display_name": "torch",
   "language": "python",
   "name": "python3"
  },
  "language_info": {
   "codemirror_mode": {
    "name": "ipython",
    "version": 3
   },
   "file_extension": ".py",
   "mimetype": "text/x-python",
   "name": "python",
   "nbconvert_exporter": "python",
   "pygments_lexer": "ipython3",
   "version": "3.10.13"
  }
 },
 "nbformat": 4,
 "nbformat_minor": 5
}
