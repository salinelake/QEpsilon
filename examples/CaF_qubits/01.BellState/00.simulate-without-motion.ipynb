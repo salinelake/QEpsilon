{
 "cells": [
  {
   "cell_type": "code",
   "execution_count": 17,
   "id": "bee99154-e313-4d46-a96c-97b1e8390458",
   "metadata": {},
   "outputs": [],
   "source": [
    "from matplotlib import pyplot as plt\n",
    "import numpy as np\n",
    "import os\n",
    "import torch as th\n",
    "import qepsilon as qe\n",
    "from qepsilon import *\n",
    "from task import RamseyScan_XY8_TwoQubits\n",
    "from qepsilon.utilities import Constants\n",
    "\n",
    "th.set_printoptions(sci_mode=False, precision=6)\n",
    "dev = 'cpu'"
   ]
  },
  {
   "cell_type": "markdown",
   "id": "8dc6908b-b727-4065-a32a-2de7dbee5b04",
   "metadata": {},
   "source": [
    "## load one-body model parameters"
   ]
  },
  {
   "cell_type": "code",
   "execution_count": 18,
   "id": "faf35496-a74f-44a9-a9e0-21a2f63137f1",
   "metadata": {},
   "outputs": [
    {
     "name": "stdout",
     "output_type": "stream",
     "text": [
      "{'_hamiltonian_operator_group_dict.sz_noise_shot.logamp': tensor(-1.268566), '_hamiltonian_operator_group_dict.sz_noise_color.logtau': tensor(1.347610), '_hamiltonian_operator_group_dict.sz_noise_color.logamp': tensor(-2.887160), '_hamiltonian_operator_group_dict.sz_noise_60hz.logamp': tensor(-3.324063), '_hamiltonian_operator_group_dict.sz_noise_60hz.logtau': tensor(2.813411), '_hamiltonian_operator_group_dict.sz_noise_120hz.logamp': tensor(-2.881873), '_hamiltonian_operator_group_dict.sz_noise_120hz.logtau': tensor(2.120264), '_hamiltonian_operator_group_dict.sz_noise_180hz.logamp': tensor(-3.860990), '_hamiltonian_operator_group_dict.sz_noise_180hz.logtau': tensor(1.714798), '_hamiltonian_operator_group_dict.sz_noise_240hz.logamp': tensor(-2.643691), '_hamiltonian_operator_group_dict.sz_noise_240hz.logtau': tensor(1.427116), '_jumping_group_dict.sx_jump.coef': tensor(0.030778), '_jumping_group_dict.sz_jump.coef': tensor(0.033112), '_channel_group_dict.depol_channel._p': tensor(-4.157300)}\n"
     ]
    }
   ],
   "source": [
    "conf = th.load('../00.Ramsey/state_dict.pt', weights_only=True)\n",
    "conf_keys = [x for x in conf]\n",
    "conf_paras = {}\n",
    "for key in conf_keys:\n",
    "    if conf[key].shape == th.tensor(1).shape:\n",
    "        conf_paras[key] = conf[key]\n",
    "print(conf_paras)\n",
    "sz_noise_shot_amp = float(th.exp(conf_paras['_hamiltonian_operator_group_dict.sz_noise_shot.logamp']))\n",
    "sz_noise_color_amp = float(th.exp(conf_paras['_hamiltonian_operator_group_dict.sz_noise_color.logamp']))\n",
    "sz_noise_color_tau = float(th.exp(conf_paras['_hamiltonian_operator_group_dict.sz_noise_color.logtau']))\n",
    "sz_noise_60hz_amp = float(th.exp(conf_paras['_hamiltonian_operator_group_dict.sz_noise_60hz.logamp']))\n",
    "sz_noise_120hz_amp = float(th.exp(conf_paras['_hamiltonian_operator_group_dict.sz_noise_120hz.logamp']))\n",
    "sz_noise_180hz_amp = float(th.exp(conf_paras['_hamiltonian_operator_group_dict.sz_noise_180hz.logamp']))\n",
    "sz_noise_240hz_amp = float(th.exp(conf_paras['_hamiltonian_operator_group_dict.sz_noise_240hz.logamp']))\n",
    "sx_jump_amp = float(conf_paras['_jumping_group_dict.sx_jump.coef'])\n",
    "sz_jump_amp = float(conf_paras['_jumping_group_dict.sz_jump.coef'])\n",
    "depol_p = conf_paras['_channel_group_dict.depol_channel._p']\n",
    "depol_p = float(th.tanh(depol_p)+1)/2.0\n",
    "\n",
    "## Let's convert all these to um-us unit system. Previously it's mm-ms unit system\n",
    "\n",
    "sz_noise_shot_amp *= 1e-3\n",
    "sz_noise_color_tau *= 1e3\n",
    "sz_noise_color_amp *= 1e-3\n",
    "sz_noise_60hz_amp *= 1e-3\n",
    "sz_noise_120hz_amp *= 1e-3\n",
    "sz_noise_180hz_amp *= 1e-3\n",
    "sz_noise_240hz_amp *= 1e-3\n",
    "sx_jump_amp *= (1e-3)**0.5\n",
    "sz_jump_amp *= (1e-3)**0.5"
   ]
  },
  {
   "cell_type": "markdown",
   "id": "700fd6db-19e8-4ba7-9b54-59369e967ad4",
   "metadata": {},
   "source": [
    "##  Define the system"
   ]
  },
  {
   "cell_type": "markdown",
   "id": "b33d47fc",
   "metadata": {},
   "source": [
    "### define tweezers and the classical particle system"
   ]
  },
  {
   "cell_type": "code",
   "execution_count": 19,
   "id": "0d9cd922-0072-4e90-9e63-d6bfb19e8777",
   "metadata": {},
   "outputs": [
    {
     "name": "stdout",
     "output_type": "stream",
     "text": [
      "dt_thermal=2.5us, dt_quantum=25us, batchsize=512\n",
      "tweezer_sep=2.35um, cycle_time=3200us\n",
      "radial_temp=0.0uK, axial_temp=0.0uK, tau=100000us\n"
     ]
    }
   ],
   "source": [
    "## system parameters\n",
    "nparticles = 2\n",
    "batchsize = 512\n",
    "tweezer_sep = 2.35 # um\n",
    "axial_temperature = 0 # K\n",
    "radial_temperature = 0 # K\n",
    "preparation_rate = 0.79  \n",
    "XY8_cycle_time = 1600 if tweezer_sep < 1.6 else 3200\n",
    "J0 = (43.0 * Constants.hbar_Hz) * (2 * np.pi) * (1.93 ** 3) / 4.0  ## J/4 in unit of hbar * MHz * um^3.   The factor 1/4 is because we are using Pauli operators instead of spin-1/2 operators. \n",
    "max_depth = Constants.kb * 0.215e-3 # hbar * MHz \n",
    "## simulation parameters\n",
    "dt_thermal = 2.5  # us\n",
    "dt_quantum = 25  # us\n",
    "tau = 100000 # us\n",
    "tmax = 200 * 1000 # us\n",
    "obs_at = np.arange(np.ceil(tmax/XY8_cycle_time)) * XY8_cycle_time\n",
    "## setup particles\n",
    "particles = ParticlesInTweezers(n_particles=nparticles, batchsize=batchsize, mass=59.0 * Constants.amu, \n",
    "                      radial_temp=radial_temperature , axial_temp=axial_temperature, \n",
    "                      dt=dt_thermal, tau = tau, unit='um_us')    \n",
    "particles.init_tweezers('TZ1', min_waist=0.730, wavelength=0.781, max_depth=max_depth, center=th.tensor([0, 0, 0.0]), axis=th.tensor([0, 0, 1.0]))\n",
    "particles.init_tweezers('TZ2', min_waist=0.730, wavelength=0.781, max_depth=max_depth, center=th.tensor([tweezer_sep, 0, 0.0]), axis=th.tensor([0, 0, 1.0]))\n",
    "print(f\"dt_thermal={dt_thermal}us, dt_quantum={dt_quantum}us, batchsize={batchsize}\")\n",
    "print(f\"tweezer_sep={tweezer_sep}um, cycle_time={XY8_cycle_time}us\")\n",
    "print(f\"radial_temp={particles.radial_temp*1e6}uK, axial_temp={particles.axial_temp*1e6}uK, tau={tau}us\")\n",
    "particles.reset()"
   ]
  },
  {
   "cell_type": "markdown",
   "id": "3b455683",
   "metadata": {},
   "source": [
    "### define Qubit states"
   ]
  },
  {
   "cell_type": "code",
   "execution_count": 20,
   "id": "e689f430",
   "metadata": {},
   "outputs": [],
   "source": [
    "qubit = qe.ParticleLindbladSystem(n_qubits=nparticles, batchsize=batchsize, particles=particles)\n",
    "qubit.set_rho_by_config([0, 0])\n",
    "## move to device\n",
    "qubit.to(dev)"
   ]
  },
  {
   "cell_type": "markdown",
   "id": "568fca3c-e81d-44f4-abb2-d25e1854408a",
   "metadata": {},
   "source": [
    "### define the Hamiltonian, jump operators, and error channel associated with control pulse"
   ]
  },
  {
   "cell_type": "code",
   "execution_count": 21,
   "id": "9a7a7a50-453d-4037-95b9-8d7e995a3fff",
   "metadata": {},
   "outputs": [],
   "source": [
    "## add the two-body dipole-dipole interaction\n",
    "dipole_int = DipolarInteraction(n_qubits=nparticles, id='dipole_int', batchsize=batchsize, particles=particles, \n",
    "                                connectivity=th.tensor([[False, True], [True, False]]), \n",
    "                                prefactor=J0, \n",
    "                                average_nsteps=int(dt_quantum / dt_thermal), \n",
    "                                qaxis=th.tensor([0.0, 1.0, 0.0]),\n",
    "                                requires_grad=False).to(dev)\n",
    "qubit.add_operator_group_to_hamiltonian(dipole_int)\n",
    "\n",
    "# add one-body terms\n",
    "sz_shot = ShotbyShotNoisePauliOperatorGroup(n_qubits=nparticles, id=\"sz_noise_shot\", batchsize=batchsize, amp=sz_noise_shot_amp, requires_grad=False).to(dev)\n",
    "sz_shot.add_operator('ZI')\n",
    "sz_shot.add_operator('IZ')\n",
    "qubit.add_operator_group_to_hamiltonian(sz_shot)\n",
    "\n",
    "sz0 = LangevinNoisePauliOperatorGroup(n_qubits=nparticles, id=\"sz_noise_color\", batchsize=batchsize, tau=sz_noise_color_tau, amp=sz_noise_color_amp, requires_grad=False).to(dev)\n",
    "sz0.add_operator('ZI')\n",
    "sz0.add_operator('IZ')\n",
    "qubit.add_operator_group_to_hamiltonian(sz0)\n",
    "\n",
    "sz1 = PeriodicNoisePauliOperatorGroup(n_qubits=nparticles, id=\"sz_noise_60hz\", batchsize=batchsize, tau=(1e6/60), amp=sz_noise_60hz_amp, requires_grad=False).to(dev)\n",
    "sz1.add_operator('ZI')\n",
    "sz1.add_operator('IZ')\n",
    "qubit.add_operator_group_to_hamiltonian(sz1)\n",
    "\n",
    "sz2 = PeriodicNoisePauliOperatorGroup(n_qubits=nparticles, id=\"sz_noise_120hz\", batchsize=batchsize, tau=(1e6/120), amp=sz_noise_120hz_amp, requires_grad=False).to(dev)\n",
    "sz2.add_operator('ZI')\n",
    "sz2.add_operator('IZ')\n",
    "qubit.add_operator_group_to_hamiltonian(sz2)\n",
    "\n",
    "sz3 = PeriodicNoisePauliOperatorGroup(n_qubits=nparticles, id=\"sz_noise_180hz\", batchsize=batchsize, tau=(1e6/180), amp=sz_noise_180hz_amp, requires_grad=False).to(dev)\n",
    "sz3.add_operator('ZI')\n",
    "sz3.add_operator('IZ')\n",
    "qubit.add_operator_group_to_hamiltonian(sz3)\n",
    "\n",
    "sz4 = PeriodicNoisePauliOperatorGroup(n_qubits=nparticles, id=\"sz_noise_240hz\", batchsize=batchsize, tau=(1e6/240), amp=sz_noise_240hz_amp, requires_grad=False).to(dev)\n",
    "sz4.add_operator('ZI')\n",
    "sz4.add_operator('IZ')\n",
    "qubit.add_operator_group_to_hamiltonian(sz4)\n",
    "\n",
    "## jump operators\n",
    "sx_jump = StaticPauliOperatorGroup(n_qubits=nparticles, id=\"sx_jump\", batchsize=batchsize, coef=sx_jump_amp, requires_grad=False).to(dev)\n",
    "sx_jump.add_operator('XI')\n",
    "sx_jump.add_operator('IX')\n",
    "qubit.add_operator_group_to_jumping(sx_jump)\n",
    "\n",
    "sz_jump = StaticPauliOperatorGroup(n_qubits=nparticles, id=\"sz_jump\", batchsize=batchsize, coef=sz_jump_amp, requires_grad=False).to(dev)\n",
    "sz_jump.add_operator('ZI')\n",
    "sz_jump.add_operator('IZ')\n",
    "qubit.add_operator_group_to_jumping(sz_jump)\n",
    "\n",
    "## error channels\n",
    "depol_channel = DepolarizationChannel(n_qubits=nparticles, id=\"depol_channel\", batchsize=batchsize, p=depol_p, requires_grad=False).to(dev)\n",
    "qubit.add_operator_group_to_channel(depol_channel)\n",
    "\n"
   ]
  },
  {
   "cell_type": "markdown",
   "id": "e312d888",
   "metadata": {},
   "source": [
    "## Run the simulation"
   ]
  },
  {
   "cell_type": "code",
   "execution_count": 22,
   "id": "d6e8a127-c9d5-4bba-b7b6-dfe09c886e70",
   "metadata": {},
   "outputs": [
    {
     "name": "stdout",
     "output_type": "stream",
     "text": [
      "observe t=0.0ms, wall_time=0.01s, P00=8.759922707213263e-07, molecular loss=0.0%\n",
      "observe t=3.2ms, wall_time=0.63s, P00=0.014471471309661865, molecular loss=0.0%\n",
      "observe t=6.4ms, wall_time=1.25s, P00=0.05565624684095383, molecular loss=0.0%\n",
      "observe t=9.6ms, wall_time=1.89s, P00=0.11973055452108383, molecular loss=0.0%\n",
      "observe t=12.8ms, wall_time=2.52s, P00=0.2016907036304474, molecular loss=0.0%\n",
      "observe t=16.0ms, wall_time=3.16s, P00=0.29573574662208557, molecular loss=0.0%\n",
      "observe t=19.2ms, wall_time=3.79s, P00=0.39558857679367065, molecular loss=0.0%\n",
      "observe t=22.4ms, wall_time=4.53s, P00=0.4949081540107727, molecular loss=0.0%\n",
      "observe t=25.6ms, wall_time=5.18s, P00=0.5876620411872864, molecular loss=0.0%\n",
      "observe t=28.8ms, wall_time=5.85s, P00=0.6684520840644836, molecular loss=0.0%\n",
      "observe t=32.0ms, wall_time=6.51s, P00=0.7328240871429443, molecular loss=0.0%\n",
      "observe t=35.2ms, wall_time=7.16s, P00=0.7775246500968933, molecular loss=0.0%\n",
      "observe t=38.4ms, wall_time=7.80s, P00=0.8004451990127563, molecular loss=0.0%\n",
      "observe t=41.6ms, wall_time=8.44s, P00=0.8010645508766174, molecular loss=0.0%\n",
      "observe t=44.8ms, wall_time=9.08s, P00=0.780035138130188, molecular loss=0.0%\n",
      "observe t=48.0ms, wall_time=9.72s, P00=0.7391666769981384, molecular loss=0.0%\n",
      "observe t=51.2ms, wall_time=10.37s, P00=0.6813914775848389, molecular loss=0.0%\n",
      "observe t=54.4ms, wall_time=11.02s, P00=0.6103774905204773, molecular loss=0.0%\n",
      "observe t=57.6ms, wall_time=11.73s, P00=0.5306174755096436, molecular loss=0.0%\n",
      "observe t=60.8ms, wall_time=12.39s, P00=0.4467335343360901, molecular loss=0.0%\n",
      "observe t=64.0ms, wall_time=13.03s, P00=0.36335620284080505, molecular loss=0.0%\n",
      "observe t=67.2ms, wall_time=13.67s, P00=0.28499072790145874, molecular loss=0.0%\n",
      "observe t=70.4ms, wall_time=14.33s, P00=0.21561405062675476, molecular loss=0.0%\n",
      "observe t=73.6ms, wall_time=14.99s, P00=0.1585768163204193, molecular loss=0.0%\n",
      "observe t=76.8ms, wall_time=15.65s, P00=0.11633580178022385, molecular loss=0.0%\n",
      "observe t=80.0ms, wall_time=16.29s, P00=0.09046497195959091, molecular loss=0.0%\n",
      "observe t=83.2ms, wall_time=16.93s, P00=0.08151831477880478, molecular loss=0.0%\n",
      "observe t=86.4ms, wall_time=17.56s, P00=0.08905694633722305, molecular loss=0.0%\n",
      "observe t=89.6ms, wall_time=18.20s, P00=0.11183153092861176, molecular loss=0.0%\n",
      "observe t=92.8ms, wall_time=18.84s, P00=0.14766517281532288, molecular loss=0.0%\n",
      "observe t=96.0ms, wall_time=19.48s, P00=0.19382530450820923, molecular loss=0.0%\n",
      "observe t=99.2ms, wall_time=20.18s, P00=0.2471359372138977, molecular loss=0.0%\n",
      "observe t=102.4ms, wall_time=20.83s, P00=0.3041684329509735, molecular loss=0.0%\n",
      "observe t=105.6ms, wall_time=21.47s, P00=0.3614039421081543, molecular loss=0.0%\n",
      "observe t=108.8ms, wall_time=22.11s, P00=0.4155074954032898, molecular loss=0.0%\n",
      "observe t=112.0ms, wall_time=22.77s, P00=0.46342068910598755, molecular loss=0.0%\n",
      "observe t=115.2ms, wall_time=23.42s, P00=0.502677321434021, molecular loss=0.0%\n",
      "observe t=118.4ms, wall_time=24.10s, P00=0.5312994122505188, molecular loss=0.0%\n",
      "observe t=121.6ms, wall_time=24.74s, P00=0.5479663014411926, molecular loss=0.0%\n",
      "observe t=124.8ms, wall_time=25.36s, P00=0.5523297786712646, molecular loss=0.0%\n",
      "observe t=128.0ms, wall_time=26.03s, P00=0.5444740056991577, molecular loss=0.0%\n",
      "observe t=131.2ms, wall_time=26.67s, P00=0.525218665599823, molecular loss=0.0%\n",
      "observe t=134.4ms, wall_time=27.30s, P00=0.4962492287158966, molecular loss=0.0%\n",
      "observe t=137.6ms, wall_time=27.95s, P00=0.4594329297542572, molecular loss=0.0%\n",
      "observe t=140.8ms, wall_time=28.60s, P00=0.4170968532562256, molecular loss=0.0%\n",
      "observe t=144.0ms, wall_time=29.26s, P00=0.37175923585891724, molecular loss=0.0%\n",
      "observe t=147.2ms, wall_time=29.90s, P00=0.325994610786438, molecular loss=0.0%\n",
      "observe t=150.4ms, wall_time=30.54s, P00=0.2823832035064697, molecular loss=0.0%\n",
      "observe t=153.6ms, wall_time=31.19s, P00=0.24317221343517303, molecular loss=0.0%\n",
      "observe t=156.8ms, wall_time=31.82s, P00=0.21033254265785217, molecular loss=0.0%\n",
      "observe t=160.0ms, wall_time=32.56s, P00=0.18537883460521698, molecular loss=0.0%\n",
      "observe t=163.2ms, wall_time=33.20s, P00=0.16930174827575684, molecular loss=0.0%\n",
      "observe t=166.4ms, wall_time=33.94s, P00=0.1625472754240036, molecular loss=0.0%\n",
      "observe t=169.6ms, wall_time=34.61s, P00=0.1650829315185547, molecular loss=0.0%\n",
      "observe t=172.8ms, wall_time=35.28s, P00=0.17631816864013672, molecular loss=0.0%\n",
      "observe t=176.0ms, wall_time=35.95s, P00=0.19518136978149414, molecular loss=0.0%\n",
      "observe t=179.2ms, wall_time=36.69s, P00=0.2202453464269638, molecular loss=0.0%\n",
      "observe t=182.4ms, wall_time=37.36s, P00=0.2497820258140564, molecular loss=0.0%\n",
      "observe t=185.6ms, wall_time=38.00s, P00=0.2819071114063263, molecular loss=0.0%\n",
      "observe t=188.8ms, wall_time=38.65s, P00=0.3146401643753052, molecular loss=0.0%\n",
      "observe t=192.0ms, wall_time=39.33s, P00=0.3460943102836609, molecular loss=0.0%\n",
      "observe t=195.2ms, wall_time=39.97s, P00=0.37450388073921204, molecular loss=0.0%\n",
      "observe t=198.4ms, wall_time=40.61s, P00=0.3983522653579712, molecular loss=0.0%\n"
     ]
    }
   ],
   "source": [
    "Ramsey_XY8_P00, loss = RamseyScan_XY8_TwoQubits(\n",
    "    qubit, \n",
    "    dt=dt_quantum, \n",
    "    T=tmax, \n",
    "    cycle_time=XY8_cycle_time, \n",
    "    observe_at=obs_at,\n",
    "    loss_radius = tweezer_sep/2)\n",
    "\n",
    "np.save('T{:.0f}uK_d{:.2f}um_t_motion_free.npy'.format(radial_temperature*1e6, tweezer_sep), obs_at)\n",
    "np.save('T{:.0f}uK_d{:.2f}um_P00_motion_free.npy'.format(radial_temperature*1e6, tweezer_sep), Ramsey_XY8_P00.cpu().numpy())\n",
    "np.save('T{:.0f}uK_d{:.2f}um_loss_motion_free.npy'.format(radial_temperature*1e6, tweezer_sep), loss.cpu().numpy())\n",
    "\n"
   ]
  },
  {
   "cell_type": "markdown",
   "id": "fc0d914b",
   "metadata": {},
   "source": [
    "## Plot and compare with experimental data"
   ]
  },
  {
   "cell_type": "code",
   "execution_count": 23,
   "id": "a7ce83c2-2e58-45c5-ab89-60378c421c19",
   "metadata": {},
   "outputs": [],
   "source": [
    "data_folder = '../00.Ramsey/Data'\n",
    "data_XY8_235 = np.loadtxt(os.path.join(data_folder, 'Fig3E_PurpleTriangles.csv'), delimiter=',', skiprows=1)\n",
    "data_XY8_235 = data_XY8_235[np.argsort(data_XY8_235[:, 0])]\n",
    "data_XY8_193 = np.loadtxt(os.path.join(data_folder, 'Fig3E_BlueCircles.csv'), delimiter=',', skiprows=1)\n",
    "data_XY8_193 = data_XY8_193[np.argsort(data_XY8_193[:, 0])]\n",
    "data_XY8_168 = np.loadtxt(os.path.join(data_folder, 'Fig3E_GreenSquares.csv'), delimiter=',', skiprows=1)\n",
    "data_XY8_168 = data_XY8_168[np.argsort(data_XY8_168[:, 0])]\n",
    "data_XY8_160 = np.loadtxt(os.path.join(data_folder, 'Fig3E_YellowDiamonds.csv'), delimiter=',', skiprows=1)\n",
    "data_XY8_160 = data_XY8_160[np.argsort(data_XY8_160[:, 0])]\n",
    "data_XY8_143 = np.loadtxt(os.path.join(data_folder, 'Fig3E_OrangeHexagons.csv'), delimiter=',', skiprows=1)\n",
    "data_XY8_143 = data_XY8_143[np.argsort(data_XY8_143[:, 0])]\n",
    "data_XY8_126 = np.loadtxt(os.path.join(data_folder, 'Fig3E_RedPentagons.csv'), delimiter=',', skiprows=1)\n",
    "data_XY8_126 = data_XY8_126[np.argsort(data_XY8_126[:, 0])]\n",
    "if tweezer_sep == 2.35:\n",
    "    data_XY8 = data_XY8_235\n",
    "elif tweezer_sep == 1.93:\n",
    "    data_XY8 = data_XY8_193\n",
    "elif tweezer_sep == 1.68:\n",
    "    data_XY8 = data_XY8_168\n",
    "elif tweezer_sep == 1.60:\n",
    "    data_XY8 = data_XY8_160\n",
    "elif tweezer_sep == 1.43:\n",
    "    data_XY8 = data_XY8_143\n",
    "elif tweezer_sep == 1.26:\n",
    "    data_XY8 = data_XY8_126"
   ]
  },
  {
   "cell_type": "code",
   "execution_count": 24,
   "id": "2c947afa-448c-468d-9e7c-bfe1428016ec",
   "metadata": {},
   "outputs": [
    {
     "data": {
      "image/png": "[encoded data removed]",
      "text/plain": [
       "<Figure size 400x200 with 1 Axes>"
      ]
     },
     "metadata": {},
     "output_type": "display_data"
    }
   ],
   "source": [
    "## plot the probability of |00>\n",
    "fig, ax = plt.subplots(figsize=(4, 2))\n",
    "ax.plot(obs_at/1000, Ramsey_XY8_P00.detach().cpu().numpy() * preparation_rate**2, label='Simulated', color='blue')\n",
    "ax.plot(data_XY8[:, 0], data_XY8[:, 1], marker='o', color='blue', label='Data', linestyle='None') # circle marker\n",
    "ax.set_xlabel('Time [ms]')\n",
    "ax.set_ylabel('P00')\n",
    "ax.legend()\n",
    "ax.set_title('T={}K, sep={}, tau={}'.format(radial_temperature, tweezer_sep, tau))\n",
    "plt.tight_layout()\n",
    "# plt.savefig(f'P00_sep{tweezer_sep:.3f}_motion_free.png')\n",
    "plt.show()\n",
    "plt.close()"
   ]
  },
  {
   "cell_type": "code",
   "execution_count": null,
   "id": "ae68710f-95e1-45c6-9b1c-c22618dbe2de",
   "metadata": {},
   "outputs": [],
   "source": []
  }
 ],
 "metadata": {
  "kernelspec": {
   "display_name": "torch",
   "language": "python",
   "name": "python3"
  },
  "language_info": {
   "codemirror_mode": {
    "name": "ipython",
    "version": 3
   },
   "file_extension": ".py",
   "mimetype": "text/x-python",
   "name": "python",
   "nbconvert_exporter": "python",
   "pygments_lexer": "ipython3",
   "version": "3.10.13"
  }
 },
 "nbformat": 4,
 "nbformat_minor": 5
}
