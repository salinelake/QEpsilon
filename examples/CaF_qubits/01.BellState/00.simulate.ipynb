{
 "cells": [
  {
   "cell_type": "code",
   "execution_count": 1,
   "id": "bee99154-e313-4d46-a96c-97b1e8390458",
   "metadata": {},
   "outputs": [],
   "source": [
    "from matplotlib import pyplot as plt\n",
    "import logging\n",
    "import time\n",
    "import numpy as np\n",
    "import os\n",
    "import torch as th\n",
    "import qepsilon as qe\n",
    "from qepsilon import *\n",
    "from task import RamseyScan_XY8_TwoQubits\n",
    "from qepsilon.utilities import Constants\n",
    "\n",
    "logging.basicConfig(filename=f'simulation.log', level=logging.INFO)\n",
    "## do not print the tensor in scientific notation\n",
    "th.set_printoptions(sci_mode=False, precision=6)\n",
    "dev = 'cpu'"
   ]
  },
  {
   "cell_type": "markdown",
   "id": "8dc6908b-b727-4065-a32a-2de7dbee5b04",
   "metadata": {},
   "source": [
    "## load one-body model parameters"
   ]
  },
  {
   "cell_type": "code",
   "execution_count": 2,
   "id": "faf35496-a74f-44a9-a9e0-21a2f63137f1",
   "metadata": {},
   "outputs": [
    {
     "name": "stdout",
     "output_type": "stream",
     "text": [
      "{'_hamiltonian_operator_group_dict.sz_noise_shot.logamp': tensor(-1.220001), '_hamiltonian_operator_group_dict.sz_noise_color.logtau': tensor(1.297947), '_hamiltonian_operator_group_dict.sz_noise_color.logamp': tensor(-2.873851), '_hamiltonian_operator_group_dict.sz_noise_60hz.logamp': tensor(-3.296211), '_hamiltonian_operator_group_dict.sz_noise_60hz.logtau': tensor(2.813411), '_hamiltonian_operator_group_dict.sz_noise_120hz.logamp': tensor(-2.730382), '_hamiltonian_operator_group_dict.sz_noise_120hz.logtau': tensor(2.120264), '_hamiltonian_operator_group_dict.sz_noise_180hz.logamp': tensor(-3.775433), '_hamiltonian_operator_group_dict.sz_noise_180hz.logtau': tensor(1.714798), '_hamiltonian_operator_group_dict.sz_noise_240hz.logamp': tensor(-2.155315), '_hamiltonian_operator_group_dict.sz_noise_240hz.logtau': tensor(1.427116), '_jumping_group_dict.sx_jump.coef': tensor(0.031814), '_jumping_group_dict.sz_jump.coef': tensor(0.033623), '_channel_group_dict.depol_channel._p': tensor(-4.053318)}\n"
     ]
    }
   ],
   "source": [
    "conf = th.load('../00.Ramsey/state_dict.pt', weights_only=True)\n",
    "conf_keys = [x for x in conf]\n",
    "conf_paras = {}\n",
    "for key in conf_keys:\n",
    "    if conf[key].shape == th.tensor(1).shape:\n",
    "        conf_paras[key] = conf[key]\n",
    "print(conf_paras)\n",
    "sz_noise_shot_amp = float(th.exp(conf_paras['_hamiltonian_operator_group_dict.sz_noise_shot.logamp']))\n",
    "sz_noise_color_amp = float(th.exp(conf_paras['_hamiltonian_operator_group_dict.sz_noise_color.logamp']))\n",
    "sz_noise_color_tau = float(th.exp(conf_paras['_hamiltonian_operator_group_dict.sz_noise_color.logtau']))\n",
    "sz_noise_60hz_amp = float(th.exp(conf_paras['_hamiltonian_operator_group_dict.sz_noise_60hz.logamp']))\n",
    "sz_noise_120hz_amp = float(th.exp(conf_paras['_hamiltonian_operator_group_dict.sz_noise_120hz.logamp']))\n",
    "sz_noise_180hz_amp = float(th.exp(conf_paras['_hamiltonian_operator_group_dict.sz_noise_180hz.logamp']))\n",
    "sz_noise_240hz_amp = float(th.exp(conf_paras['_hamiltonian_operator_group_dict.sz_noise_240hz.logamp']))\n",
    "sx_jump_amp = float(conf_paras['_jumping_group_dict.sx_jump.coef'])\n",
    "sz_jump_amp = float(conf_paras['_jumping_group_dict.sz_jump.coef'])\n",
    "depol_p = conf_paras['_channel_group_dict.depol_channel._p']\n",
    "depol_p = float(th.tanh(depol_p)+1)/2.0\n",
    "\n",
    "## Let's convert all these to um-us unit system. Previously it's mm-ms unit system\n",
    "\n",
    "sz_noise_shot_amp *= 1e-3\n",
    "sz_noise_color_tau *= 1e3\n",
    "sz_noise_color_amp *= 1e-3\n",
    "sz_noise_60hz_amp *= 1e-3\n",
    "sz_noise_120hz_amp *= 1e-3\n",
    "sz_noise_180hz_amp *= 1e-3\n",
    "sz_noise_240hz_amp *= 1e-3\n",
    "sx_jump_amp *= (1e-3)**0.5\n",
    "sz_jump_amp *= (1e-3)**0.5"
   ]
  },
  {
   "cell_type": "markdown",
   "id": "700fd6db-19e8-4ba7-9b54-59369e967ad4",
   "metadata": {},
   "source": [
    "##  Define the system"
   ]
  },
  {
   "cell_type": "markdown",
   "id": "b33d47fc",
   "metadata": {},
   "source": [
    "### define tweezers and the classical particle system"
   ]
  },
  {
   "cell_type": "code",
   "execution_count": 3,
   "id": "0d9cd922-0072-4e90-9e63-d6bfb19e8777",
   "metadata": {},
   "outputs": [
    {
     "name": "stdout",
     "output_type": "stream",
     "text": [
      "dt_thermal=0.25us, dt_quantum=25us, batchsize=64\n",
      "tweezer_sep=1.93um, cycle_time=3200us\n",
      "radial_temp=30.0uK, axial_temp=30.0uK, tau=100000us\n"
     ]
    }
   ],
   "source": [
    "nparticles = 2\n",
    "batchsize = 64\n",
    "dt_thermal = 0.25  # us\n",
    "dt_quantum = 25  # us\n",
    "tweezer_sep = 1.93 # um\n",
    "axial_temperature = 30e-6 # K\n",
    "radial_temperature = 30e-6 # K\n",
    "tau = 100000 # us\n",
    "preperation_rate = 0.824  \n",
    "XY8_cycle_time = 1600 if tweezer_sep < 1.6 else 3200\n",
    "J0 = (43.0 * Constants.hbar_Hz) * (2 * np.pi) * (1.93 ** 3) / 4.0  ## J/4 in unit of hbar * MHz * um^3.   The factor 1/4 is because we are using Pauli operators instead of spin-1/2 operators. \n",
    "\n",
    "max_depth = Constants.kb * 0.215e-3 # hbar * MHz \n",
    "particles = ParticlesInTweezers(n_particles=nparticles, batchsize=batchsize, mass=59.0 * Constants.amu, \n",
    "                      radial_temp=radial_temperature , axial_temp=axial_temperature, \n",
    "                      dt=dt_thermal, tau = tau, unit='um_us')    \n",
    "particles.init_tweezers('TZ1', min_waist=0.730, wavelength=0.781, max_depth=max_depth, center=th.tensor([0, 0, 0.0]), axis=th.tensor([0, 0, 1.0]))\n",
    "particles.init_tweezers('TZ2', min_waist=0.730, wavelength=0.781, max_depth=max_depth, center=th.tensor([tweezer_sep, 0, 0.0]), axis=th.tensor([0, 0, 1.0]))\n",
    "print(f\"dt_thermal={dt_thermal}us, dt_quantum={dt_quantum}us, batchsize={batchsize}\")\n",
    "print(f\"tweezer_sep={tweezer_sep}um, cycle_time={XY8_cycle_time}us\")\n",
    "print(f\"radial_temp={particles.radial_temp*1e6}uK, axial_temp={particles.axial_temp*1e6}uK, tau={tau}us\")\n",
    "particles.reset()"
   ]
  },
  {
   "cell_type": "markdown",
   "id": "3b455683",
   "metadata": {},
   "source": [
    "### define Qubit states"
   ]
  },
  {
   "cell_type": "code",
   "execution_count": 4,
   "id": "e689f430",
   "metadata": {},
   "outputs": [],
   "source": [
    "qubit = qe.ParticleLindbladSystem(n_qubits=nparticles, batchsize=batchsize, particles=particles)\n",
    "qubit.set_rho_by_config([0, 0])\n",
    "## move to device\n",
    "qubit.to(dev)"
   ]
  },
  {
   "cell_type": "markdown",
   "id": "568fca3c-e81d-44f4-abb2-d25e1854408a",
   "metadata": {},
   "source": [
    "### define the Hamiltonian, jump operators, and error channel associated with control pulse"
   ]
  },
  {
   "cell_type": "code",
   "execution_count": 5,
   "id": "9a7a7a50-453d-4037-95b9-8d7e995a3fff",
   "metadata": {},
   "outputs": [],
   "source": [
    "## add the two-body dipole-dipole interaction\n",
    "dipole_int = DipolarInteraction(n_qubits=nparticles, id='dipole_int', batchsize=batchsize, particles=particles, \n",
    "                                connectivity=th.tensor([[False, True], [True, False]]), \n",
    "                                prefactor=J0, \n",
    "                                average_nsteps=int(dt_quantum / dt_thermal), \n",
    "                                qaxis=th.tensor([0.0, 1.0, 0.0]),\n",
    "                                requires_grad=False).to(dev)\n",
    "qubit.add_operator_group_to_hamiltonian(dipole_int)\n",
    "\n",
    "# add one-body terms\n",
    "sz_shot = ShotbyShotNoisePauliOperatorGroup(n_qubits=nparticles, id=\"sz_noise_shot\", batchsize=batchsize, amp=sz_noise_shot_amp, requires_grad=False).to(dev)\n",
    "sz_shot.add_operator('ZI')\n",
    "sz_shot.add_operator('IZ')\n",
    "qubit.add_operator_group_to_hamiltonian(sz_shot)\n",
    "\n",
    "sz0 = LangevinNoisePauliOperatorGroup(n_qubits=nparticles, id=\"sz_noise_color\", batchsize=batchsize, tau=sz_noise_color_tau, amp=sz_noise_color_amp, requires_grad=False).to(dev)\n",
    "sz0.add_operator('ZI')\n",
    "sz0.add_operator('IZ')\n",
    "qubit.add_operator_group_to_hamiltonian(sz0)\n",
    "\n",
    "sz1 = PeriodicNoisePauliOperatorGroup(n_qubits=nparticles, id=\"sz_noise_60hz\", batchsize=batchsize, tau=(1e6/60), amp=sz_noise_60hz_amp, requires_grad=False).to(dev)\n",
    "sz1.add_operator('ZI')\n",
    "sz1.add_operator('IZ')\n",
    "qubit.add_operator_group_to_hamiltonian(sz1)\n",
    "\n",
    "sz2 = PeriodicNoisePauliOperatorGroup(n_qubits=nparticles, id=\"sz_noise_120hz\", batchsize=batchsize, tau=(1e6/120), amp=sz_noise_120hz_amp, requires_grad=False).to(dev)\n",
    "sz2.add_operator('ZI')\n",
    "sz2.add_operator('IZ')\n",
    "qubit.add_operator_group_to_hamiltonian(sz2)\n",
    "\n",
    "sz3 = PeriodicNoisePauliOperatorGroup(n_qubits=nparticles, id=\"sz_noise_180hz\", batchsize=batchsize, tau=(1e6/180), amp=sz_noise_180hz_amp, requires_grad=False).to(dev)\n",
    "sz3.add_operator('ZI')\n",
    "sz3.add_operator('IZ')\n",
    "qubit.add_operator_group_to_hamiltonian(sz3)\n",
    "\n",
    "sz4 = PeriodicNoisePauliOperatorGroup(n_qubits=nparticles, id=\"sz_noise_240hz\", batchsize=batchsize, tau=(1e6/240), amp=sz_noise_240hz_amp, requires_grad=False).to(dev)\n",
    "sz4.add_operator('ZI')\n",
    "sz4.add_operator('IZ')\n",
    "qubit.add_operator_group_to_hamiltonian(sz4)\n",
    "\n",
    "## jump operators\n",
    "sx_jump = StaticPauliOperatorGroup(n_qubits=nparticles, id=\"sx_jump\", batchsize=batchsize, coef=sx_jump_amp, requires_grad=False).to(dev)\n",
    "sx_jump.add_operator('XI')\n",
    "sx_jump.add_operator('IX')\n",
    "qubit.add_operator_group_to_jumping(sx_jump)\n",
    "\n",
    "sz_jump = StaticPauliOperatorGroup(n_qubits=nparticles, id=\"sz_jump\", batchsize=batchsize, coef=sz_jump_amp, requires_grad=False).to(dev)\n",
    "sz_jump.add_operator('ZI')\n",
    "sz_jump.add_operator('IZ')\n",
    "qubit.add_operator_group_to_jumping(sz_jump)\n",
    "\n",
    "## error channels\n",
    "depol_channel = DepolarizationChannel(n_qubits=nparticles, id=\"depol_channel\", batchsize=batchsize, p=depol_p, requires_grad=False).to(dev)\n",
    "qubit.add_operator_group_to_channel(depol_channel)\n",
    "\n"
   ]
  },
  {
   "cell_type": "markdown",
   "id": "e312d888",
   "metadata": {},
   "source": [
    "## Run the simulation"
   ]
  },
  {
   "cell_type": "code",
   "execution_count": 6,
   "id": "d6e8a127-c9d5-4bba-b7b6-dfe09c886e70",
   "metadata": {},
   "outputs": [
    {
     "name": "stdout",
     "output_type": "stream",
     "text": [
      "observe t=0.0ms, wall_time=0.14s, P00=1.547037413729413e-06, molecular loss=6.25%\n",
      "observe t=3.2ms, wall_time=15.04s, P00=0.0264020673930645, molecular loss=15.625%\n",
      "observe t=6.4ms, wall_time=29.86s, P00=0.08439047634601593, molecular loss=15.625%\n",
      "observe t=9.6ms, wall_time=45.02s, P00=0.1696571707725525, molecular loss=17.1875%\n",
      "observe t=12.8ms, wall_time=60.02s, P00=0.2666160464286804, molecular loss=20.3125%\n",
      "observe t=16.0ms, wall_time=75.56s, P00=0.3544330894947052, molecular loss=23.4375%\n",
      "observe t=19.2ms, wall_time=91.19s, P00=0.44572341442108154, molecular loss=23.4375%\n",
      "observe t=22.4ms, wall_time=107.10s, P00=0.5114727020263672, molecular loss=25.0%\n",
      "observe t=25.6ms, wall_time=121.86s, P00=0.5505449771881104, molecular loss=26.5625%\n",
      "observe t=28.8ms, wall_time=136.52s, P00=0.5582906603813171, molecular loss=28.125%\n",
      "observe t=32.0ms, wall_time=151.52s, P00=0.5166275501251221, molecular loss=32.8125%\n",
      "observe t=35.2ms, wall_time=165.92s, P00=0.4866042137145996, molecular loss=32.8125%\n",
      "observe t=38.4ms, wall_time=180.32s, P00=0.43497711420059204, molecular loss=32.8125%\n",
      "observe t=41.6ms, wall_time=194.76s, P00=0.36305534839630127, molecular loss=34.375%\n",
      "observe t=44.8ms, wall_time=209.19s, P00=0.29930809140205383, molecular loss=34.375%\n",
      "observe t=48.0ms, wall_time=223.96s, P00=0.23920798301696777, molecular loss=34.375%\n",
      "observe t=51.2ms, wall_time=240.43s, P00=0.18128374218940735, molecular loss=35.9375%\n",
      "observe t=54.4ms, wall_time=256.02s, P00=0.13682010769844055, molecular loss=37.5%\n",
      "observe t=57.6ms, wall_time=271.26s, P00=0.11981041729450226, molecular loss=37.5%\n",
      "observe t=60.8ms, wall_time=285.88s, P00=0.1178331971168518, molecular loss=37.5%\n",
      "observe t=64.0ms, wall_time=300.99s, P00=0.1292324662208557, molecular loss=37.5%\n",
      "observe t=67.2ms, wall_time=315.69s, P00=0.15244491398334503, molecular loss=37.5%\n"
     ]
    }
   ],
   "source": [
    "tmax = 70 * 1000 # us\n",
    "obs_at = np.arange(np.ceil(tmax/3200)) * 3200\n",
    "Ramsey_XY8_P00, loss = RamseyScan_XY8_TwoQubits(\n",
    "    qubit, \n",
    "    dt=dt_quantum, \n",
    "    T=tmax, \n",
    "    cycle_time=XY8_cycle_time, \n",
    "    observe_at=obs_at,\n",
    "    loss_radius = 0.6)\n",
    "\n",
    "np.save('T{:.0f}uK_d{:.2f}um_t.npy'.format(radial_temperature*1e6, tweezer_sep), obs_at)\n",
    "np.save('T{:.0f}uK_d{:.2f}um_P00.npy'.format(radial_temperature*1e6, tweezer_sep), Ramsey_XY8_P00.detach().cpu().numpy())\n",
    "\n"
   ]
  },
  {
   "cell_type": "markdown",
   "id": "fc0d914b",
   "metadata": {},
   "source": [
    "## Plot and compare with experimental data"
   ]
  },
  {
   "cell_type": "code",
   "execution_count": 7,
   "id": "a7ce83c2-2e58-45c5-ab89-60378c421c19",
   "metadata": {},
   "outputs": [],
   "source": [
    "data_folder = '../00.Ramsey/Data'\n",
    "data_XY8_235 = np.loadtxt(os.path.join(data_folder, 'Fig3E_PurpleTriangles.csv'), delimiter=',', skiprows=1)\n",
    "data_XY8_235 = data_XY8_235[np.argsort(data_XY8_235[:, 0])]\n",
    "data_XY8_193 = np.loadtxt(os.path.join(data_folder, 'Fig3E_BlueCircles.csv'), delimiter=',', skiprows=1)\n",
    "data_XY8_193 = data_XY8_193[np.argsort(data_XY8_193[:, 0])]\n",
    "data_XY8_168 = np.loadtxt(os.path.join(data_folder, 'Fig3E_GreenSquares.csv'), delimiter=',', skiprows=1)\n",
    "data_XY8_168 = data_XY8_168[np.argsort(data_XY8_168[:, 0])]\n",
    "data_XY8_160 = np.loadtxt(os.path.join(data_folder, 'Fig3E_YellowDiamonds.csv'), delimiter=',', skiprows=1)\n",
    "data_XY8_160 = data_XY8_160[np.argsort(data_XY8_160[:, 0])]\n",
    "data_XY8_143 = np.loadtxt(os.path.join(data_folder, 'Fig3E_OrangeHexagons.csv'), delimiter=',', skiprows=1)\n",
    "data_XY8_143 = data_XY8_143[np.argsort(data_XY8_143[:, 0])]\n",
    "data_XY8_126 = np.loadtxt(os.path.join(data_folder, 'Fig3E_RedPentagons.csv'), delimiter=',', skiprows=1)\n",
    "data_XY8_126 = data_XY8_126[np.argsort(data_XY8_126[:, 0])]\n",
    "if tweezer_sep == 2.35:\n",
    "    data_XY8 = data_XY8_235\n",
    "elif tweezer_sep == 1.93:\n",
    "    data_XY8 = data_XY8_193\n",
    "elif tweezer_sep == 1.68:\n",
    "    data_XY8 = data_XY8_168\n",
    "elif tweezer_sep == 1.60:\n",
    "    data_XY8 = data_XY8_160\n",
    "elif tweezer_sep == 1.43:\n",
    "    data_XY8 = data_XY8_143\n",
    "elif tweezer_sep == 1.26:\n",
    "    data_XY8 = data_XY8_126"
   ]
  },
  {
   "cell_type": "code",
   "execution_count": 8,
   "id": "2c947afa-448c-468d-9e7c-bfe1428016ec",
   "metadata": {},
   "outputs": [
    {
     "data": {
      "image/png": "[encoded data removed]",
      "text/plain": [
       "<Figure size 400x200 with 1 Axes>"
      ]
     },
     "metadata": {},
     "output_type": "display_data"
    },
    {
     "data": {
      "text/plain": [
       "<Figure size 640x480 with 0 Axes>"
      ]
     },
     "metadata": {},
     "output_type": "display_data"
    }
   ],
   "source": [
    "## plot the probability of |00>\n",
    "fig, ax = plt.subplots(figsize=(4, 2))\n",
    "ax.plot(obs_at/1000, Ramsey_XY8_P00.detach().cpu().numpy() * preperation_rate**2, label='Simulated', color='blue')\n",
    "ax.plot(data_XY8[:, 0], data_XY8[:, 1], marker='o', color='blue', label='Data', linestyle='None') # circle marker\n",
    "ax.set_xlabel('Time [ms]')\n",
    "ax.set_ylabel('P00')\n",
    "ax.legend()\n",
    "ax.set_title('T={}K, sep={}, tau={}'.format(radial_temperature, tweezer_sep, tau))\n",
    "plt.show()\n",
    "plt.tight_layout()\n",
    "plt.savefig(f'P00_sep{tweezer_sep:.3f}.png')"
   ]
  },
  {
   "cell_type": "code",
   "execution_count": null,
   "id": "ae68710f-95e1-45c6-9b1c-c22618dbe2de",
   "metadata": {},
   "outputs": [],
   "source": []
  }
 ],
 "metadata": {
  "kernelspec": {
   "display_name": "qepsilon",
   "language": "python",
   "name": "qepsilon"
  },
  "language_info": {
   "codemirror_mode": {
    "name": "ipython",
    "version": 3
   },
   "file_extension": ".py",
   "mimetype": "text/x-python",
   "name": "python",
   "nbconvert_exporter": "python",
   "pygments_lexer": "ipython3",
   "version": "3.10.14"
  }
 },
 "nbformat": 4,
 "nbformat_minor": 5
}
