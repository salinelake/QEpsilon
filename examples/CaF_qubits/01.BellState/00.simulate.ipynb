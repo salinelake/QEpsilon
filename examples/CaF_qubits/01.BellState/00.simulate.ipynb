{
 "cells": [
  {
   "cell_type": "code",
   "execution_count": 2,
   "id": "bee99154-e313-4d46-a96c-97b1e8390458",
   "metadata": {},
   "outputs": [],
   "source": [
    "from matplotlib import pyplot as plt\n",
    "import numpy as np\n",
    "import os\n",
    "import torch as th\n",
    "import qepsilon as qe\n",
    "from qepsilon import *\n",
    "from task import RamseyScan_XY8_TwoQubits\n",
    "from qepsilon.utilities import Constants\n",
    "\n",
    "th.set_printoptions(sci_mode=False, precision=6)\n",
    "dev = 'cpu'"
   ]
  },
  {
   "cell_type": "markdown",
   "id": "8dc6908b-b727-4065-a32a-2de7dbee5b04",
   "metadata": {},
   "source": [
    "## load one-body model parameters"
   ]
  },
  {
   "cell_type": "code",
   "execution_count": 2,
   "id": "faf35496-a74f-44a9-a9e0-21a2f63137f1",
   "metadata": {},
   "outputs": [
    {
     "name": "stdout",
     "output_type": "stream",
     "text": [
      "{'_hamiltonian_operator_group_dict.sz_noise_shot.logamp': tensor(-1.268566), '_hamiltonian_operator_group_dict.sz_noise_color.logtau': tensor(1.347610), '_hamiltonian_operator_group_dict.sz_noise_color.logamp': tensor(-2.887160), '_hamiltonian_operator_group_dict.sz_noise_60hz.logamp': tensor(-3.324063), '_hamiltonian_operator_group_dict.sz_noise_60hz.logtau': tensor(2.813411), '_hamiltonian_operator_group_dict.sz_noise_120hz.logamp': tensor(-2.881873), '_hamiltonian_operator_group_dict.sz_noise_120hz.logtau': tensor(2.120264), '_hamiltonian_operator_group_dict.sz_noise_180hz.logamp': tensor(-3.860990), '_hamiltonian_operator_group_dict.sz_noise_180hz.logtau': tensor(1.714798), '_hamiltonian_operator_group_dict.sz_noise_240hz.logamp': tensor(-2.643691), '_hamiltonian_operator_group_dict.sz_noise_240hz.logtau': tensor(1.427116), '_jumping_group_dict.sx_jump.coef': tensor(0.030778), '_jumping_group_dict.sz_jump.coef': tensor(0.033112), '_channel_group_dict.depol_channel._p': tensor(-4.157300)}\n"
     ]
    }
   ],
   "source": [
    "conf = th.load('../00.Ramsey/state_dict.pt', weights_only=True)\n",
    "conf_keys = [x for x in conf]\n",
    "conf_paras = {}\n",
    "for key in conf_keys:\n",
    "    if conf[key].shape == th.tensor(1).shape:\n",
    "        conf_paras[key] = conf[key]\n",
    "print(conf_paras)\n",
    "sz_noise_shot_amp = float(th.exp(conf_paras['_hamiltonian_operator_group_dict.sz_noise_shot.logamp']))\n",
    "sz_noise_color_amp = float(th.exp(conf_paras['_hamiltonian_operator_group_dict.sz_noise_color.logamp']))\n",
    "sz_noise_color_tau = float(th.exp(conf_paras['_hamiltonian_operator_group_dict.sz_noise_color.logtau']))\n",
    "sz_noise_60hz_amp = float(th.exp(conf_paras['_hamiltonian_operator_group_dict.sz_noise_60hz.logamp']))\n",
    "sz_noise_120hz_amp = float(th.exp(conf_paras['_hamiltonian_operator_group_dict.sz_noise_120hz.logamp']))\n",
    "sz_noise_180hz_amp = float(th.exp(conf_paras['_hamiltonian_operator_group_dict.sz_noise_180hz.logamp']))\n",
    "sz_noise_240hz_amp = float(th.exp(conf_paras['_hamiltonian_operator_group_dict.sz_noise_240hz.logamp']))\n",
    "sx_jump_amp = float(conf_paras['_jumping_group_dict.sx_jump.coef'])\n",
    "sz_jump_amp = float(conf_paras['_jumping_group_dict.sz_jump.coef'])\n",
    "depol_p = conf_paras['_channel_group_dict.depol_channel._p']\n",
    "depol_p = float(th.tanh(depol_p)+1)/2.0\n",
    "\n",
    "## Let's convert all these to um-us unit system. Previously it's mm-ms unit system\n",
    "\n",
    "sz_noise_shot_amp *= 1e-3\n",
    "sz_noise_color_tau *= 1e3\n",
    "sz_noise_color_amp *= 1e-3\n",
    "sz_noise_60hz_amp *= 1e-3\n",
    "sz_noise_120hz_amp *= 1e-3\n",
    "sz_noise_180hz_amp *= 1e-3\n",
    "sz_noise_240hz_amp *= 1e-3\n",
    "sx_jump_amp *= (1e-3)**0.5\n",
    "sz_jump_amp *= (1e-3)**0.5"
   ]
  },
  {
   "cell_type": "markdown",
   "id": "700fd6db-19e8-4ba7-9b54-59369e967ad4",
   "metadata": {},
   "source": [
    "##  Define the system"
   ]
  },
  {
   "cell_type": "markdown",
   "id": "b33d47fc",
   "metadata": {},
   "source": [
    "### define tweezers and the classical particle system"
   ]
  },
  {
   "cell_type": "code",
   "execution_count": null,
   "id": "0d9cd922-0072-4e90-9e63-d6bfb19e8777",
   "metadata": {},
   "outputs": [
    {
     "ename": "NameError",
     "evalue": "name 'Constants' is not defined",
     "output_type": "error",
     "traceback": [
      "\u001b[0;31m---------------------------------------------------------------------------\u001b[0m",
      "\u001b[0;31mNameError\u001b[0m                                 Traceback (most recent call last)",
      "Cell \u001b[0;32mIn[1], line 9\u001b[0m\n\u001b[1;32m      7\u001b[0m preparation_rate \u001b[38;5;241m=\u001b[39m \u001b[38;5;241m0.79\u001b[39m  \n\u001b[1;32m      8\u001b[0m XY8_cycle_time \u001b[38;5;241m=\u001b[39m \u001b[38;5;241m1600\u001b[39m \u001b[38;5;28;01mif\u001b[39;00m tweezer_sep \u001b[38;5;241m<\u001b[39m \u001b[38;5;241m1.6\u001b[39m \u001b[38;5;28;01melse\u001b[39;00m \u001b[38;5;241m3200\u001b[39m\n\u001b[0;32m----> 9\u001b[0m J0 \u001b[38;5;241m=\u001b[39m (\u001b[38;5;241m43.0\u001b[39m \u001b[38;5;241m*\u001b[39m \u001b[43mConstants\u001b[49m\u001b[38;5;241m.\u001b[39mhbar_Hz) \u001b[38;5;241m*\u001b[39m (\u001b[38;5;241m2\u001b[39m \u001b[38;5;241m*\u001b[39m np\u001b[38;5;241m.\u001b[39mpi) \u001b[38;5;241m*\u001b[39m (\u001b[38;5;241m1.93\u001b[39m \u001b[38;5;241m*\u001b[39m\u001b[38;5;241m*\u001b[39m \u001b[38;5;241m3\u001b[39m) \u001b[38;5;241m/\u001b[39m \u001b[38;5;241m4.0\u001b[39m  \u001b[38;5;66;03m## J/4 in unit of hbar * MHz * um^3.   The factor 1/4 is because we are using Pauli operators instead of spin-1/2 operators. \u001b[39;00m\n\u001b[1;32m     10\u001b[0m max_depth \u001b[38;5;241m=\u001b[39m Constants\u001b[38;5;241m.\u001b[39mkb \u001b[38;5;241m*\u001b[39m \u001b[38;5;241m0.215e-3\u001b[39m \u001b[38;5;66;03m# hbar * MHz \u001b[39;00m\n\u001b[1;32m     11\u001b[0m \u001b[38;5;66;03m## simulation parameters\u001b[39;00m\n",
      "\u001b[0;31mNameError\u001b[0m: name 'Constants' is not defined"
     ]
    }
   ],
   "source": [
    "## system parameters\n",
    "nparticles = 2\n",
    "batchsize = 512\n",
    "tweezer_sep = 1.68 # um\n",
    "axial_temperature = 20e-6 # K\n",
    "radial_temperature = 20e-6 # K\n",
    "preparation_rate = 0.79  \n",
    "XY8_cycle_time = 1600 if tweezer_sep < 1.6 else 3200\n",
    "J0 = (43.0 * Constants.hbar_Hz) * (2 * np.pi) * (1.93 ** 3)  ## J0 in unit of hbar * MHz * um^3.    \n",
    "print('J0 for spin-1/2 operators is', J0 * 4)\n",
    "max_depth = Constants.kb * 0.215e-3 # hbar * MHz \n",
    "## simulation parameters\n",
    "dt_thermal = 0.25  # us\n",
    "dt_quantum = 25  # us\n",
    "tau = 100000 # us\n",
    "tmax = 200 * 1000 # us\n",
    "obs_at = np.arange(np.ceil(tmax/XY8_cycle_time)) * XY8_cycle_time\n",
    "## setup particles\n",
    "particles = ParticlesInTweezers(n_particles=nparticles, batchsize=batchsize, mass=59.0 * Constants.amu, \n",
    "                      radial_temp=radial_temperature , axial_temp=axial_temperature, \n",
    "                      dt=dt_thermal, tau = tau, unit='um_us')    \n",
    "particles.init_tweezers('TZ1', min_waist=0.730, wavelength=0.781, max_depth=max_depth, center=th.tensor([0, 0, 0.0]), axis=th.tensor([0, 0, 1.0]))\n",
    "particles.init_tweezers('TZ2', min_waist=0.730, wavelength=0.781, max_depth=max_depth, center=th.tensor([tweezer_sep, 0, 0.0]), axis=th.tensor([0, 0, 1.0]))\n",
    "print(f\"dt_thermal={dt_thermal}us, dt_quantum={dt_quantum}us, batchsize={batchsize}\")\n",
    "print(f\"tweezer_sep={tweezer_sep}um, cycle_time={XY8_cycle_time}us\")\n",
    "print(f\"radial_temp={particles.radial_temp*1e6}uK, axial_temp={particles.axial_temp*1e6}uK, tau={tau}us\")\n",
    "particles.reset()"
   ]
  },
  {
   "cell_type": "code",
   "execution_count": null,
   "id": "1f7e468a",
   "metadata": {},
   "outputs": [],
   "source": []
  },
  {
   "cell_type": "markdown",
   "id": "3b455683",
   "metadata": {},
   "source": [
    "### define Qubit states"
   ]
  },
  {
   "cell_type": "code",
   "execution_count": 4,
   "id": "e689f430",
   "metadata": {},
   "outputs": [],
   "source": [
    "qubit = qe.ParticleLindbladSystem(n_qubits=nparticles, batchsize=batchsize, particles=particles)\n",
    "qubit.set_rho_by_config([0, 0])\n",
    "## move to device\n",
    "qubit.to(dev)"
   ]
  },
  {
   "cell_type": "markdown",
   "id": "568fca3c-e81d-44f4-abb2-d25e1854408a",
   "metadata": {},
   "source": [
    "### define the Hamiltonian, jump operators, and error channel associated with control pulse"
   ]
  },
  {
   "cell_type": "code",
   "execution_count": 5,
   "id": "9a7a7a50-453d-4037-95b9-8d7e995a3fff",
   "metadata": {},
   "outputs": [],
   "source": [
    "## add the two-body dipole-dipole interaction\n",
    "## The factor 1/4 in prefactor is because we are using Pauli operators instead of spin-1/2 operators.\n",
    "dipole_int = DipolarInteraction(n_qubits=nparticles, id='dipole_int', batchsize=batchsize, particles=particles, \n",
    "                                connectivity=th.tensor([[False, True], [True, False]]), \n",
    "                                prefactor=J0/4.0,   \n",
    "                                average_nsteps=int(dt_quantum / dt_thermal), \n",
    "                                qaxis=th.tensor([0.0, 1.0, 0.0]),\n",
    "                                requires_grad=False).to(dev)\n",
    "qubit.add_operator_group_to_hamiltonian(dipole_int)\n",
    "\n",
    "# add one-body terms\n",
    "sz_shot = ShotbyShotNoisePauliOperatorGroup(n_qubits=nparticles, id=\"sz_noise_shot\", batchsize=batchsize, amp=sz_noise_shot_amp, requires_grad=False).to(dev)\n",
    "sz_shot.add_operator('ZI')\n",
    "sz_shot.add_operator('IZ')\n",
    "qubit.add_operator_group_to_hamiltonian(sz_shot)\n",
    "\n",
    "sz0 = LangevinNoisePauliOperatorGroup(n_qubits=nparticles, id=\"sz_noise_color\", batchsize=batchsize, tau=sz_noise_color_tau, amp=sz_noise_color_amp, requires_grad=False).to(dev)\n",
    "sz0.add_operator('ZI')\n",
    "sz0.add_operator('IZ')\n",
    "qubit.add_operator_group_to_hamiltonian(sz0)\n",
    "\n",
    "sz1 = PeriodicNoisePauliOperatorGroup(n_qubits=nparticles, id=\"sz_noise_60hz\", batchsize=batchsize, tau=(1e6/60), amp=sz_noise_60hz_amp, requires_grad=False).to(dev)\n",
    "sz1.add_operator('ZI')\n",
    "sz1.add_operator('IZ')\n",
    "qubit.add_operator_group_to_hamiltonian(sz1)\n",
    "\n",
    "sz2 = PeriodicNoisePauliOperatorGroup(n_qubits=nparticles, id=\"sz_noise_120hz\", batchsize=batchsize, tau=(1e6/120), amp=sz_noise_120hz_amp, requires_grad=False).to(dev)\n",
    "sz2.add_operator('ZI')\n",
    "sz2.add_operator('IZ')\n",
    "qubit.add_operator_group_to_hamiltonian(sz2)\n",
    "\n",
    "sz3 = PeriodicNoisePauliOperatorGroup(n_qubits=nparticles, id=\"sz_noise_180hz\", batchsize=batchsize, tau=(1e6/180), amp=sz_noise_180hz_amp, requires_grad=False).to(dev)\n",
    "sz3.add_operator('ZI')\n",
    "sz3.add_operator('IZ')\n",
    "qubit.add_operator_group_to_hamiltonian(sz3)\n",
    "\n",
    "sz4 = PeriodicNoisePauliOperatorGroup(n_qubits=nparticles, id=\"sz_noise_240hz\", batchsize=batchsize, tau=(1e6/240), amp=sz_noise_240hz_amp, requires_grad=False).to(dev)\n",
    "sz4.add_operator('ZI')\n",
    "sz4.add_operator('IZ')\n",
    "qubit.add_operator_group_to_hamiltonian(sz4)\n",
    "\n",
    "## jump operators\n",
    "sx_jump = StaticPauliOperatorGroup(n_qubits=nparticles, id=\"sx_jump\", batchsize=batchsize, coef=sx_jump_amp, requires_grad=False).to(dev)\n",
    "sx_jump.add_operator('XI')\n",
    "sx_jump.add_operator('IX')\n",
    "qubit.add_operator_group_to_jumping(sx_jump)\n",
    "\n",
    "sz_jump = StaticPauliOperatorGroup(n_qubits=nparticles, id=\"sz_jump\", batchsize=batchsize, coef=sz_jump_amp, requires_grad=False).to(dev)\n",
    "sz_jump.add_operator('ZI')\n",
    "sz_jump.add_operator('IZ')\n",
    "qubit.add_operator_group_to_jumping(sz_jump)\n",
    "\n",
    "## error channels\n",
    "depol_channel = DepolarizationChannel(n_qubits=nparticles, id=\"depol_channel\", batchsize=batchsize, p=depol_p, requires_grad=False).to(dev)\n",
    "qubit.add_operator_group_to_channel(depol_channel)\n",
    "\n"
   ]
  },
  {
   "cell_type": "markdown",
   "id": "e312d888",
   "metadata": {},
   "source": [
    "## Run the simulation"
   ]
  },
  {
   "cell_type": "code",
   "execution_count": 6,
   "id": "d6e8a127-c9d5-4bba-b7b6-dfe09c886e70",
   "metadata": {},
   "outputs": [
    {
     "name": "stdout",
     "output_type": "stream",
     "text": [
      "observe t=0.0ms, wall_time=0.06s, P00=5.014063390262891e-06, molecular loss=0.9765625%\n",
      "observe t=3.2ms, wall_time=5.21s, P00=0.06693200021982193, molecular loss=3.3203125%\n",
      "observe t=6.4ms, wall_time=10.53s, P00=0.2410413771867752, molecular loss=3.7109375%\n",
      "observe t=9.6ms, wall_time=15.76s, P00=0.4638165533542633, molecular loss=4.1015625%\n",
      "observe t=12.8ms, wall_time=20.98s, P00=0.666703999042511, molecular loss=4.6875%\n",
      "observe t=16.0ms, wall_time=26.06s, P00=0.7914189696311951, molecular loss=5.46875%\n",
      "observe t=19.2ms, wall_time=31.15s, P00=0.8125156760215759, molecular loss=5.6640625%\n",
      "observe t=22.4ms, wall_time=36.22s, P00=0.7274645566940308, molecular loss=6.0546875%\n",
      "observe t=25.6ms, wall_time=41.29s, P00=0.5704498291015625, molecular loss=6.4453125%\n",
      "observe t=28.8ms, wall_time=46.36s, P00=0.38823097944259644, molecular loss=7.03125%\n",
      "observe t=32.0ms, wall_time=51.47s, P00=0.23270875215530396, molecular loss=7.8125%\n",
      "observe t=35.2ms, wall_time=56.55s, P00=0.14537657797336578, molecular loss=8.0078125%\n",
      "observe t=38.4ms, wall_time=61.63s, P00=0.13611312210559845, molecular loss=8.59375%\n",
      "observe t=41.6ms, wall_time=66.68s, P00=0.19712556898593903, molecular loss=8.7890625%\n",
      "observe t=44.8ms, wall_time=71.75s, P00=0.2976827919483185, molecular loss=9.1796875%\n",
      "observe t=48.0ms, wall_time=77.02s, P00=0.4042949378490448, molecular loss=9.375%\n",
      "observe t=51.2ms, wall_time=82.13s, P00=0.4848431944847107, molecular loss=9.375%\n",
      "observe t=54.4ms, wall_time=87.17s, P00=0.516547679901123, molecular loss=9.9609375%\n",
      "observe t=57.6ms, wall_time=92.24s, P00=0.5011373162269592, molecular loss=10.15625%\n",
      "observe t=60.8ms, wall_time=97.31s, P00=0.44526931643486023, molecular loss=10.3515625%\n",
      "observe t=64.0ms, wall_time=102.69s, P00=0.37308603525161743, molecular loss=10.3515625%\n",
      "observe t=67.2ms, wall_time=107.89s, P00=0.3051817715167999, molecular loss=10.3515625%\n",
      "observe t=70.4ms, wall_time=113.05s, P00=0.25862064957618713, molecular loss=10.7421875%\n",
      "observe t=73.6ms, wall_time=118.09s, P00=0.2441369891166687, molecular loss=10.9375%\n",
      "observe t=76.8ms, wall_time=123.16s, P00=0.258888304233551, molecular loss=11.1328125%\n",
      "observe t=80.0ms, wall_time=128.14s, P00=0.29100269079208374, molecular loss=11.5234375%\n",
      "observe t=83.2ms, wall_time=133.12s, P00=0.3275507092475891, molecular loss=11.71875%\n",
      "observe t=86.4ms, wall_time=138.30s, P00=0.3564973473548889, molecular loss=11.9140625%\n",
      "observe t=89.6ms, wall_time=143.31s, P00=0.3679206073284149, molecular loss=12.3046875%\n",
      "observe t=92.8ms, wall_time=148.44s, P00=0.3610413372516632, molecular loss=12.6953125%\n",
      "observe t=96.0ms, wall_time=153.65s, P00=0.3414667248725891, molecular loss=12.890625%\n",
      "observe t=99.2ms, wall_time=158.83s, P00=0.3150988817214966, molecular loss=13.28125%\n",
      "observe t=102.4ms, wall_time=163.94s, P00=0.29132306575775146, molecular loss=13.671875%\n",
      "observe t=105.6ms, wall_time=168.97s, P00=0.275808721780777, molecular loss=14.0625%\n",
      "observe t=108.8ms, wall_time=174.02s, P00=0.27172815799713135, molecular loss=14.2578125%\n",
      "observe t=112.0ms, wall_time=179.03s, P00=0.2762272357940674, molecular loss=14.6484375%\n",
      "observe t=115.2ms, wall_time=184.05s, P00=0.2876608073711395, molecular loss=14.84375%\n",
      "observe t=118.4ms, wall_time=189.11s, P00=0.297914981842041, molecular loss=15.234375%\n",
      "observe t=121.6ms, wall_time=194.21s, P00=0.3047259747982025, molecular loss=15.4296875%\n",
      "observe t=124.8ms, wall_time=199.24s, P00=0.304226279258728, molecular loss=16.015625%\n",
      "observe t=128.0ms, wall_time=204.23s, P00=0.2998981475830078, molecular loss=16.015625%\n",
      "observe t=131.2ms, wall_time=209.34s, P00=0.29044899344444275, molecular loss=16.2109375%\n",
      "observe t=134.4ms, wall_time=214.34s, P00=0.28090089559555054, molecular loss=16.2109375%\n",
      "observe t=137.6ms, wall_time=219.35s, P00=0.27291440963745117, molecular loss=16.6015625%\n",
      "observe t=140.8ms, wall_time=224.42s, P00=0.2670690417289734, molecular loss=17.1875%\n",
      "observe t=144.0ms, wall_time=229.43s, P00=0.2661380469799042, molecular loss=17.3828125%\n",
      "observe t=147.2ms, wall_time=234.51s, P00=0.26679399609565735, molecular loss=17.578125%\n",
      "observe t=150.4ms, wall_time=239.55s, P00=0.2671612799167633, molecular loss=17.96875%\n",
      "observe t=153.6ms, wall_time=244.60s, P00=0.2685026526451111, molecular loss=17.96875%\n",
      "observe t=156.8ms, wall_time=249.59s, P00=0.26861274242401123, molecular loss=17.96875%\n",
      "observe t=160.0ms, wall_time=254.59s, P00=0.2663330137729645, molecular loss=18.1640625%\n",
      "observe t=163.2ms, wall_time=259.60s, P00=0.2646625339984894, molecular loss=18.359375%\n",
      "observe t=166.4ms, wall_time=264.59s, P00=0.2633504867553711, molecular loss=18.359375%\n",
      "observe t=169.6ms, wall_time=269.59s, P00=0.26342320442199707, molecular loss=18.359375%\n",
      "observe t=172.8ms, wall_time=274.92s, P00=0.2639009654521942, molecular loss=18.5546875%\n",
      "observe t=176.0ms, wall_time=280.13s, P00=0.26380017399787903, molecular loss=18.9453125%\n",
      "observe t=179.2ms, wall_time=285.25s, P00=0.26291435956954956, molecular loss=19.3359375%\n",
      "observe t=182.4ms, wall_time=290.27s, P00=0.26158392429351807, molecular loss=19.3359375%\n",
      "observe t=185.6ms, wall_time=295.30s, P00=0.2577829957008362, molecular loss=19.53125%\n",
      "observe t=188.8ms, wall_time=300.34s, P00=0.25249364972114563, molecular loss=19.921875%\n",
      "observe t=192.0ms, wall_time=305.36s, P00=0.24792064726352692, molecular loss=20.1171875%\n",
      "observe t=195.2ms, wall_time=310.38s, P00=0.24487242102622986, molecular loss=20.3125%\n",
      "observe t=198.4ms, wall_time=315.34s, P00=0.24324467778205872, molecular loss=20.703125%\n"
     ]
    }
   ],
   "source": [
    "Ramsey_XY8_P00, loss = RamseyScan_XY8_TwoQubits(\n",
    "    qubit, \n",
    "    dt=dt_quantum, \n",
    "    T=tmax, \n",
    "    cycle_time=XY8_cycle_time, \n",
    "    observe_at=obs_at,\n",
    "    loss_radius = tweezer_sep/2)\n",
    "\n",
    "np.save('T{:.0f}uK_d{:.2f}um_t.npy'.format(radial_temperature*1e6, tweezer_sep), obs_at)\n",
    "np.save('T{:.0f}uK_d{:.2f}um_P00.npy'.format(radial_temperature*1e6, tweezer_sep), Ramsey_XY8_P00.cpu().numpy())\n",
    "np.save('T{:.0f}uK_d{:.2f}um_loss.npy'.format(radial_temperature*1e6, tweezer_sep), loss.cpu().numpy())\n",
    "\n"
   ]
  },
  {
   "cell_type": "markdown",
   "id": "fc0d914b",
   "metadata": {},
   "source": [
    "## Plot and compare with experimental data"
   ]
  },
  {
   "cell_type": "code",
   "execution_count": 7,
   "id": "a7ce83c2-2e58-45c5-ab89-60378c421c19",
   "metadata": {},
   "outputs": [],
   "source": [
    "data_folder = '../00.Ramsey/Data'\n",
    "data_XY8_235 = np.loadtxt(os.path.join(data_folder, 'Fig3E_PurpleTriangles.csv'), delimiter=',', skiprows=1)\n",
    "data_XY8_235 = data_XY8_235[np.argsort(data_XY8_235[:, 0])]\n",
    "data_XY8_193 = np.loadtxt(os.path.join(data_folder, 'Fig3E_BlueCircles.csv'), delimiter=',', skiprows=1)\n",
    "data_XY8_193 = data_XY8_193[np.argsort(data_XY8_193[:, 0])]\n",
    "data_XY8_168 = np.loadtxt(os.path.join(data_folder, 'Fig3E_GreenSquares.csv'), delimiter=',', skiprows=1)\n",
    "data_XY8_168 = data_XY8_168[np.argsort(data_XY8_168[:, 0])]\n",
    "data_XY8_160 = np.loadtxt(os.path.join(data_folder, 'Fig3E_YellowDiamonds.csv'), delimiter=',', skiprows=1)\n",
    "data_XY8_160 = data_XY8_160[np.argsort(data_XY8_160[:, 0])]\n",
    "data_XY8_143 = np.loadtxt(os.path.join(data_folder, 'Fig3E_OrangeHexagons.csv'), delimiter=',', skiprows=1)\n",
    "data_XY8_143 = data_XY8_143[np.argsort(data_XY8_143[:, 0])]\n",
    "data_XY8_126 = np.loadtxt(os.path.join(data_folder, 'Fig3E_RedPentagons.csv'), delimiter=',', skiprows=1)\n",
    "data_XY8_126 = data_XY8_126[np.argsort(data_XY8_126[:, 0])]\n",
    "if tweezer_sep == 2.35:\n",
    "    data_XY8 = data_XY8_235\n",
    "elif tweezer_sep == 1.93:\n",
    "    data_XY8 = data_XY8_193\n",
    "elif tweezer_sep == 1.68:\n",
    "    data_XY8 = data_XY8_168\n",
    "elif tweezer_sep == 1.60:\n",
    "    data_XY8 = data_XY8_160\n",
    "elif tweezer_sep == 1.43:\n",
    "    data_XY8 = data_XY8_143\n",
    "elif tweezer_sep == 1.26:\n",
    "    data_XY8 = data_XY8_126"
   ]
  },
  {
   "cell_type": "code",
   "execution_count": 8,
   "id": "2c947afa-448c-468d-9e7c-bfe1428016ec",
   "metadata": {},
   "outputs": [
    {
     "data": {
      "image/png": "[encoded data removed]",
      "text/plain": [
       "<Figure size 400x200 with 1 Axes>"
      ]
     },
     "metadata": {},
     "output_type": "display_data"
    }
   ],
   "source": [
    "## plot the probability of |00>\n",
    "fig, ax = plt.subplots(figsize=(4, 2))\n",
    "ax.plot(obs_at/1000, Ramsey_XY8_P00.detach().cpu().numpy() * preparation_rate**2, label='Simulated', color='blue')\n",
    "ax.plot(data_XY8[:, 0], data_XY8[:, 1], marker='o', color='blue', label='Data', linestyle='None') # circle marker\n",
    "ax.set_xlabel('Time [ms]')\n",
    "ax.set_ylabel('P00')\n",
    "ax.legend()\n",
    "ax.set_title('T={}K, sep={}, tau={}'.format(radial_temperature, tweezer_sep, tau))\n",
    "plt.tight_layout()\n",
    "plt.savefig(f'P00_sep{tweezer_sep:.3f}.png')\n",
    "plt.show()\n",
    "plt.close()"
   ]
  },
  {
   "cell_type": "code",
   "execution_count": null,
   "id": "ae68710f-95e1-45c6-9b1c-c22618dbe2de",
   "metadata": {},
   "outputs": [],
   "source": []
  }
 ],
 "metadata": {
  "kernelspec": {
   "display_name": "torch",
   "language": "python",
   "name": "python3"
  },
  "language_info": {
   "codemirror_mode": {
    "name": "ipython",
    "version": 3
   },
   "file_extension": ".py",
   "mimetype": "text/x-python",
   "name": "python",
   "nbconvert_exporter": "python",
   "pygments_lexer": "ipython3",
   "version": "3.10.13"
  }
 },
 "nbformat": 4,
 "nbformat_minor": 5
}
